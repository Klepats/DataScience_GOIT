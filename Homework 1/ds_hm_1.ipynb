{
 "cells": [
  {
   "cell_type": "code",
   "execution_count": 48,
   "metadata": {},
   "outputs": [],
   "source": [
    "import numpy as np"
   ]
  },
  {
   "cell_type": "markdown",
   "metadata": {},
   "source": [
    "## TASK 1\n",
    "#### Створіть одновимірний масив (вектор) з першими 10-ма натуральними числами та виведіть його значення."
   ]
  },
  {
   "cell_type": "code",
   "execution_count": 49,
   "metadata": {},
   "outputs": [
    {
     "data": {
      "text/plain": [
       "array([0, 1, 2, 3, 4, 5, 6, 7, 8, 9])"
      ]
     },
     "execution_count": 49,
     "metadata": {},
     "output_type": "execute_result"
    }
   ],
   "source": [
    "task1 = np.array([i for i in range(10)])\n",
    "task1"
   ]
  },
  {
   "cell_type": "markdown",
   "metadata": {},
   "source": [
    "## TASK 2\n",
    "#### Створіть двовимірний масив (матрицю) розміром 3x3, заповніть його нулями та виведіть його значення."
   ]
  },
  {
   "cell_type": "code",
   "execution_count": 50,
   "metadata": {},
   "outputs": [
    {
     "data": {
      "text/plain": [
       "array([[0., 0., 0.],\n",
       "       [0., 0., 0.],\n",
       "       [0., 0., 0.]])"
      ]
     },
     "execution_count": 50,
     "metadata": {},
     "output_type": "execute_result"
    }
   ],
   "source": [
    "task2 = np.zeros((3, 3))\n",
    "task2"
   ]
  },
  {
   "cell_type": "markdown",
   "metadata": {},
   "source": [
    "## TASK 3\n",
    "#### Створіть масив розміром 5x5, заповніть його випадковими цілими числами в діапазоні від 1 до 10 та виведіть його значення."
   ]
  },
  {
   "cell_type": "code",
   "execution_count": 51,
   "metadata": {},
   "outputs": [
    {
     "data": {
      "text/plain": [
       "array([[ 7,  9,  3,  9,  8],\n",
       "       [ 8,  1,  6,  9,  8],\n",
       "       [ 7, 10,  3,  6,  3],\n",
       "       [ 9,  6,  5,  3,  4],\n",
       "       [10, 10,  8,  6, 10]])"
      ]
     },
     "execution_count": 51,
     "metadata": {},
     "output_type": "execute_result"
    }
   ],
   "source": [
    "task3 = np.random.randint(1, 11, size=(5,5))\n",
    "task3"
   ]
  },
  {
   "cell_type": "markdown",
   "metadata": {},
   "source": [
    "## Task 4\n",
    "#### Створіть масив розміром 4x4, заповніть його випадковими дійсними числами в діапазоні від 0 до 1 та виведіть його значення."
   ]
  },
  {
   "cell_type": "code",
   "execution_count": 52,
   "metadata": {},
   "outputs": [
    {
     "data": {
      "text/plain": [
       "array([[0.46298121, 0.80681414, 0.6557204 , 0.85323408],\n",
       "       [0.19458355, 0.07609641, 0.52998207, 0.97716345],\n",
       "       [0.09778043, 0.89775575, 0.07816024, 0.02529481],\n",
       "       [0.18656061, 0.32459145, 0.9652885 , 0.3001804 ]])"
      ]
     },
     "execution_count": 52,
     "metadata": {},
     "output_type": "execute_result"
    }
   ],
   "source": [
    "task4 = np.random.random(size=(4,4))\n",
    "task4"
   ]
  },
  {
   "cell_type": "markdown",
   "metadata": {},
   "source": [
    "## Task 5\n",
    "#### Створіть два одновимірних масиви розміром 5, заповніть їх випадковими цілими числами в діапазоні від 1 до 10 та виконайте на них поелементні операції додавання, віднімання та множення."
   ]
  },
  {
   "cell_type": "code",
   "execution_count": 53,
   "metadata": {},
   "outputs": [
    {
     "name": "stdout",
     "output_type": "stream",
     "text": [
      "array1 = array([2, 6, 3, 5, 1])\n",
      "array2 = array([7, 9, 3, 3, 7])\n"
     ]
    }
   ],
   "source": [
    "array1 = np.random.randint(1,11, size=5)\n",
    "array2 = np.random.randint(1,11, size=5)\n",
    "print(f'{array1 = }')\n",
    "print(f'{array2 = }')"
   ]
  },
  {
   "cell_type": "code",
   "execution_count": 54,
   "metadata": {},
   "outputs": [
    {
     "name": "stdout",
     "output_type": "stream",
     "text": [
      "addiction = array([ 9, 15,  6,  8,  8])\n",
      "subtraction = array([-5, -3,  0,  2, -6])\n",
      "multiplication = array([14, 54,  9, 15,  7])\n"
     ]
    }
   ],
   "source": [
    "addiction = array1 + array2\n",
    "subtraction = array1 - array2\n",
    "multiplication = array1 * array2\n",
    "print(f'{addiction = }')\n",
    "print(f'{subtraction = }')\n",
    "print(f'{multiplication = }')"
   ]
  },
  {
   "cell_type": "markdown",
   "metadata": {},
   "source": [
    "## Task 6\n",
    "#### Створіть два вектори розміром 7, заповніть довільними числами та знайдіть їх скалярний добуток."
   ]
  },
  {
   "cell_type": "code",
   "execution_count": 55,
   "metadata": {},
   "outputs": [
    {
     "name": "stdout",
     "output_type": "stream",
     "text": [
      "vector1 = array([8.16159387e-01, 3.31745278e-01, 1.16692865e-04, 3.83651556e-01,\n",
      "       8.36152484e-01, 4.69827524e-01, 5.73455108e-01])\n",
      "vector2 = array([0.14939287, 0.82861952, 0.51052553, 0.58436956, 0.98648304,\n",
      "       0.02316311, 0.83101246])\n",
      "scalar = 1.9333541260069165\n"
     ]
    }
   ],
   "source": [
    "vector1 = np.random.rand(7)\n",
    "vector2 = np.random.rand(7)\n",
    "print(f'{vector1 = }')\n",
    "print(f'{vector2 = }')\n",
    "\n",
    "scalar = np.dot(vector1, vector2)\n",
    "print(f'{scalar = }')\n"
   ]
  },
  {
   "cell_type": "markdown",
   "metadata": {},
   "source": [
    "## TASK 7\n",
    "#### Створіть дві матриці розміром 2x2 та 2x3, заповніть їх випадковими цілими числами в діапазоні від 1 до 10 та перемножте їх між собою."
   ]
  },
  {
   "cell_type": "code",
   "execution_count": 56,
   "metadata": {},
   "outputs": [
    {
     "name": "stdout",
     "output_type": "stream",
     "text": [
      "matrix1 = array([[7, 7],\n",
      "       [7, 5]])\n",
      "matrix2 = array([[ 7, 10,  8],\n",
      "       [ 4,  8,  2]])\n",
      "result = array([[ 77, 126,  70],\n",
      "       [ 69, 110,  66]])\n"
     ]
    }
   ],
   "source": [
    "matrix1 = np.random.randint(1, 11, size=(2, 2))\n",
    "matrix2 = np.random.randint(1, 11, size=(2, 3))\n",
    "print(f'{matrix1 = }')\n",
    "print(f'{matrix2 = }')\n",
    "\n",
    "result = np.dot(matrix1, matrix2)\n",
    "print(f\"{result = }\")"
   ]
  },
  {
   "cell_type": "markdown",
   "metadata": {},
   "source": [
    "## TASK 8\n",
    "#### Створіть матрицю розміром 3x3, заповніть її випадковими цілими числами в діапазоні від 1 до 10 та знайдіть її обернену матрицю."
   ]
  },
  {
   "cell_type": "code",
   "execution_count": 57,
   "metadata": {},
   "outputs": [
    {
     "name": "stdout",
     "output_type": "stream",
     "text": [
      "matrix = array([[ 4,  6,  3],\n",
      "       [ 3, 10,  3],\n",
      "       [ 1,  6, 10]])\n",
      "inverse_matrix = array([[ 0.43157895, -0.22105263, -0.06315789],\n",
      "       [-0.14210526,  0.19473684, -0.01578947],\n",
      "       [ 0.04210526, -0.09473684,  0.11578947]])\n"
     ]
    }
   ],
   "source": [
    "matrix = np.random.randint(1, 11, size=(3,3))\n",
    "print(f'{matrix = }')\n",
    "\n",
    "inverse_matrix = np.linalg.inv(matrix)\n",
    "print(f'{inverse_matrix = }')"
   ]
  },
  {
   "cell_type": "markdown",
   "metadata": {},
   "source": [
    "## TASK 9\n",
    "#### Створіть матрицю розміром 4x4, заповніть її випадковими дійсними числами в діапазоні від 0 до 1 та транспонуйте її."
   ]
  },
  {
   "cell_type": "code",
   "execution_count": 58,
   "metadata": {},
   "outputs": [
    {
     "name": "stdout",
     "output_type": "stream",
     "text": [
      "matrix = array([[ 3,  4,  1,  6],\n",
      "       [10,  5,  9,  9],\n",
      "       [ 7,  2,  5,  2],\n",
      "       [ 4,  9,  7,  5]])\n",
      "transposed_matrix = array([[ 3, 10,  7,  4],\n",
      "       [ 4,  5,  2,  9],\n",
      "       [ 1,  9,  5,  7],\n",
      "       [ 6,  9,  2,  5]])\n"
     ]
    }
   ],
   "source": [
    "matrix = np.random.randint(1, 11, size=(4,4))\n",
    "print(f\"{matrix = }\")\n",
    "\n",
    "# Transpose the matrix\n",
    "\n",
    "transposed_matrix= matrix.T\n",
    "print(f\"{transposed_matrix = }\")"
   ]
  },
  {
   "cell_type": "markdown",
   "metadata": {},
   "source": [
    "## TASK 10\n",
    "#### Створіть матрицю розміром 3x4 та вектор розміром 4, заповніть їх випадковими цілими числами в діапазоні від 1 до 10 та перемножте матрицю на вектор."
   ]
  },
  {
   "cell_type": "code",
   "execution_count": 59,
   "metadata": {},
   "outputs": [
    {
     "name": "stdout",
     "output_type": "stream",
     "text": [
      "matrix = array([[5, 5, 5, 6],\n",
      "       [9, 1, 2, 3],\n",
      "       [5, 7, 3, 4]])\n",
      "vector = array([9, 3, 3, 6])\n",
      "result = array([111, 108,  99])\n"
     ]
    }
   ],
   "source": [
    "matrix = np.random.randint(1, 11, size=(3,4))\n",
    "vector = np.random.randint(1, 11, size=(4))\n",
    "\n",
    "print(f\"{matrix = }\")\n",
    "print(f\"{vector = }\")\n",
    "\n",
    "result = np.dot(matrix, vector)\n",
    "print(f\"{result = }\")"
   ]
  },
  {
   "cell_type": "markdown",
   "metadata": {},
   "source": [
    "## TASK 11\n",
    "#### Створіть матрицю розміром 2x3 та вектор розміром 3, заповніть їх випадковими дійсними числами в діапазоні від 0 до 1 та перемножте матрицю на вектор."
   ]
  },
  {
   "cell_type": "code",
   "execution_count": 60,
   "metadata": {},
   "outputs": [
    {
     "name": "stdout",
     "output_type": "stream",
     "text": [
      "matrix = array([[0.28330107, 0.54861428, 0.09453146],\n",
      "       [0.81827145, 0.60505147, 0.80175915]])\n",
      "vector = array([0.91869762, 0.40316672, 0.22336203])\n",
      "result = array([0.50256578, 1.17476321])\n"
     ]
    }
   ],
   "source": [
    "matrix = np.random.random((2,3))\n",
    "vector = np.random.random((3))\n",
    "\n",
    "print(f\"{matrix = }\")\n",
    "print(f\"{vector = }\")\n",
    "\n",
    "result = np.dot(matrix, vector)\n",
    "print(f\"{result = }\")"
   ]
  },
  {
   "cell_type": "markdown",
   "metadata": {},
   "source": [
    "## TASK 12\n",
    "#### Створіть дві матриці розміром 2x2, заповніть їх випадковими цілими числами в діапазоні від 1 до 10 та виконайте їхнє поелементне множення."
   ]
  },
  {
   "cell_type": "code",
   "execution_count": 61,
   "metadata": {},
   "outputs": [
    {
     "name": "stdout",
     "output_type": "stream",
     "text": [
      "matrix1 = array([[7, 2],\n",
      "       [3, 5]])\n",
      "matrix2 = array([[4, 9],\n",
      "       [6, 9]])\n",
      "result = array([[28, 18],\n",
      "       [18, 45]])\n"
     ]
    }
   ],
   "source": [
    "matrix1 = np.random.randint(1, 11, size=(2,2))\n",
    "matrix2 = np.random.randint(1, 11, size=(2,2))\n",
    "\n",
    "print(f\"{matrix1 = }\")\n",
    "print(f\"{matrix2 = }\")\n",
    "result = np.multiply(matrix1, matrix2) # result = matrix1 * matrix2\n",
    "print(f\"{result = }\")"
   ]
  },
  {
   "cell_type": "markdown",
   "metadata": {},
   "source": [
    "## TASK 13\n",
    "#### Створіть дві матриці розміром 2x2, заповніть їх випадковими цілими числами в діапазоні від 1 до 10 та знайдіть їх добуток."
   ]
  },
  {
   "cell_type": "code",
   "execution_count": 62,
   "metadata": {},
   "outputs": [
    {
     "name": "stdout",
     "output_type": "stream",
     "text": [
      "matrix1 = array([[5, 2],\n",
      "       [3, 9]])\n",
      "matrix2 = array([[8, 9],\n",
      "       [4, 3]])\n",
      "result = array([[48, 51],\n",
      "       [60, 54]])\n"
     ]
    }
   ],
   "source": [
    "matrix1 = np.random.randint(1, 11, size=(2,2))\n",
    "matrix2 = np.random.randint(1, 11, size=(2,2))\n",
    "\n",
    "print(f\"{matrix1 = }\")\n",
    "print(f\"{matrix2 = }\")\n",
    "result = np.dot(matrix1, matrix2)\n",
    "print(f\"{result = }\")"
   ]
  },
  {
   "cell_type": "markdown",
   "metadata": {},
   "source": [
    "## TASK 14\n",
    "#### Створіть матрицю розміром 5x5, заповніть її випадковими цілими числами в діапазоні від 1 до 100 та знайдіть суму елементів матриці."
   ]
  },
  {
   "cell_type": "code",
   "execution_count": 63,
   "metadata": {},
   "outputs": [
    {
     "name": "stdout",
     "output_type": "stream",
     "text": [
      "matrix = array([[ 26,   5,  93,  26, 100],\n",
      "       [ 79,  43,  25,  32,  93],\n",
      "       [ 19,  42,  78,  72,  66],\n",
      "       [ 15,  19,  66,   7,  70],\n",
      "       [ 42,  74,  39,  18,  61]])\n",
      "result = 1210\n"
     ]
    }
   ],
   "source": [
    "\n",
    "matrix = np.random.randint(1, 101, size=(5,5))\n",
    "print(f\"{matrix = }\")\n",
    "\n",
    "result = np.sum(matrix)\n",
    "print(f\"{result = }\")"
   ]
  },
  {
   "cell_type": "markdown",
   "metadata": {},
   "source": [
    "## TASK 15\n",
    "#### Створіть дві матриці розміром 4x4, заповніть їх випадковими цілими числами в діапазоні від 1 до 10 та знайдіть їхню різницю"
   ]
  },
  {
   "cell_type": "code",
   "execution_count": 64,
   "metadata": {},
   "outputs": [
    {
     "name": "stdout",
     "output_type": "stream",
     "text": [
      "matrix1 = array([[3, 5, 6, 6],\n",
      "       [4, 4, 9, 1],\n",
      "       [3, 9, 7, 7],\n",
      "       [4, 9, 3, 8]])\n",
      "matrix2 = array([[ 2,  5, 10,  8],\n",
      "       [ 3,  7,  6,  3],\n",
      "       [ 2,  7,  9,  9],\n",
      "       [ 3,  3,  8,  4]])\n",
      "result = array([[ 1,  0, -4, -2],\n",
      "       [ 1, -3,  3, -2],\n",
      "       [ 1,  2, -2, -2],\n",
      "       [ 1,  6, -5,  4]])\n"
     ]
    }
   ],
   "source": [
    "matrix1 = np.random.randint(1, 11, size=(4,4))\n",
    "matrix2 = np.random.randint(1, 11, size=(4,4))\n",
    "\n",
    "print(f\"{matrix1 = }\")\n",
    "print(f\"{matrix2 = }\")\n",
    "\n",
    "result = matrix1 - matrix2\n",
    "print(f\"{result = }\")"
   ]
  },
  {
   "cell_type": "markdown",
   "metadata": {},
   "source": [
    "## TASK 16\n",
    "#### Створіть матрицю розміром 3x3, заповніть її випадковими дійсними числами в діапазоні від 0 до 1 та знайдіть вектор-стовпчик, що містить суму елементів кожного рядка матриці."
   ]
  },
  {
   "cell_type": "code",
   "execution_count": 65,
   "metadata": {},
   "outputs": [
    {
     "name": "stdout",
     "output_type": "stream",
     "text": [
      "matrix = array([[0.24696775, 0.15225333, 0.986883  ],\n",
      "       [0.09111669, 0.86300956, 0.89522218],\n",
      "       [0.74194188, 0.63917231, 0.62388824]])\n",
      "result = array([[1.38610407],\n",
      "       [1.84934843],\n",
      "       [2.00500243]])\n"
     ]
    }
   ],
   "source": [
    "\n",
    "matrix = np.random.random((3,3))\n",
    "\n",
    "print(f\"{matrix = }\")\n",
    "\n",
    "result = np.sum(matrix, axis=1, keepdims=True)\n",
    "print(f\"{result = }\")"
   ]
  },
  {
   "cell_type": "markdown",
   "metadata": {},
   "source": [
    "## TASK 17\n",
    "#### Створіть матрицю розміром 3x4 з довільними цілими числами і створінь матрицю з квадратами цих чисел."
   ]
  },
  {
   "cell_type": "code",
   "execution_count": 66,
   "metadata": {},
   "outputs": [
    {
     "name": "stdout",
     "output_type": "stream",
     "text": [
      "matrix = array([[9, 4, 2, 6],\n",
      "       [1, 5, 2, 4],\n",
      "       [9, 5, 2, 4]])\n",
      "result = array([[81, 16,  4, 36],\n",
      "       [ 1, 25,  4, 16],\n",
      "       [81, 25,  4, 16]])\n"
     ]
    }
   ],
   "source": [
    "\n",
    "matrix = np.random.randint(1, 11, size=(3, 4))\n",
    "\n",
    "print(f\"{matrix = }\")\n",
    "\n",
    "result = np.square(matrix)\n",
    "print(f\"{result = }\")"
   ]
  },
  {
   "cell_type": "markdown",
   "metadata": {},
   "source": [
    "## TASK 18\n",
    "#### Створіть вектор розміром 4, заповніть його випадковими цілими числами в діапазоні від 1 до 50 та знайдіть вектор з квадратними коренями цих чисел."
   ]
  },
  {
   "cell_type": "code",
   "execution_count": 67,
   "metadata": {},
   "outputs": [
    {
     "name": "stdout",
     "output_type": "stream",
     "text": [
      "vector = array([35, 43,  2, 43])\n",
      "result = array([5.91607978, 6.55743852, 1.41421356, 6.55743852])\n"
     ]
    }
   ],
   "source": [
    "vector = np.random.randint(1, 51, size=4)\n",
    "\n",
    "print(f\"{vector = }\")\n",
    "\n",
    "result = np.sqrt(vector)\n",
    "print(f\"{result = }\")"
   ]
  }
 ],
 "metadata": {
  "kernelspec": {
   "display_name": "Python 3",
   "language": "python",
   "name": "python3"
  },
  "language_info": {
   "codemirror_mode": {
    "name": "ipython",
    "version": 3
   },
   "file_extension": ".py",
   "mimetype": "text/x-python",
   "name": "python",
   "nbconvert_exporter": "python",
   "pygments_lexer": "ipython3",
   "version": "3.12.2"
  }
 },
 "nbformat": 4,
 "nbformat_minor": 2
}
